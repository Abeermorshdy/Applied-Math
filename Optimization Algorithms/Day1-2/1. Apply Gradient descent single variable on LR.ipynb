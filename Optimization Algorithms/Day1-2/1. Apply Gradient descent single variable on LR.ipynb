{
 "cells": [
  {
   "cell_type": "code",
   "execution_count": 1,
   "metadata": {},
   "outputs": [],
   "source": [
    "import numpy as np\n",
    "import matplotlib.pyplot as plt\n",
    "%matplotlib inline"
   ]
  },
  {
   "cell_type": "code",
   "execution_count": 2,
   "metadata": {},
   "outputs": [
    {
     "data": {
      "text/plain": [
       "<matplotlib.collections.PathCollection at 0x259359a5b10>"
      ]
     },
     "execution_count": 2,
     "metadata": {},
     "output_type": "execute_result"
    },
    {
     "data": {
      "image/png": "[encoded data removed]",
      "text/plain": [
       "<Figure size 640x480 with 1 Axes>"
      ]
     },
     "metadata": {},
     "output_type": "display_data"
    }
   ],
   "source": [
    "# Data for example\n",
    "x_train = np.array( [6.1101, 10,13,15,17,5.5277, 8.5186, 7.0032, 5.8598])\n",
    "y_train = np.array([17.592,22,25,30,35, 9.1302, 13.662,  11.854,  6.8233])\n",
    "plt.scatter(x = x_train,y = y_train,marker='x',color = 'r')"
   ]
  },
  {
   "cell_type": "markdown",
   "metadata": {},
   "source": [
    "**Goal**\n",
    "- Our goal is to implement a model which can predicate `y_train` based on only one feature `x_train`.\n",
    "- We will use <b>Linear Regression model</b> to predicate the incoming `x_test`"
   ]
  },
  {
   "cell_type": "markdown",
   "metadata": {},
   "source": [
    "- The first step is calculating the cost function which will measure the error in our model "
   ]
  },
  {
   "cell_type": "markdown",
   "metadata": {},
   "source": [
    "- To remember $$\\mathbf f_{w,b}(x^{(i)}) = wx^{(i)}+b $$"
   ]
  },
  {
   "cell_type": "markdown",
   "metadata": {},
   "source": [
    "- Cost function : $$\\mathbf cost^{(i)} = (f(x)^{(i)} - y^{(i)})^2$$"
   ]
  },
  {
   "cell_type": "markdown",
   "metadata": {},
   "source": [
    "- Total cost: $$\\mathbf j_{(w,b)} = 1/2m \\sum\\limits_{i=0}^{m-1} cost^{(i)} $$"
   ]
  },
  {
   "cell_type": "code",
   "execution_count": 9,
   "metadata": {},
   "outputs": [
    {
     "data": {
      "text/plain": [
       "9"
      ]
     },
     "execution_count": 9,
     "metadata": {},
     "output_type": "execute_result"
    }
   ],
   "source": [
    "x_train.shape[0]"
   ]
  },
  {
   "cell_type": "code",
   "execution_count": 14,
   "metadata": {},
   "outputs": [],
   "source": [
    "def cost_func (x,y,w,b):\n",
    "    cost = 0\n",
    "    m = x.shape[0]\n",
    "    \n",
    "    for i in range(m):\n",
    "        h = w*x[i] + b\n",
    "        e = (h-y[i])**2\n",
    "        cost = cost + e\n",
    "    return (1/(2*m))*cost"
   ]
  },
  {
   "cell_type": "code",
   "execution_count": 15,
   "metadata": {},
   "outputs": [
    {
     "data": {
      "text/plain": [
       "203.5357426865134"
      ]
     },
     "execution_count": 15,
     "metadata": {},
     "output_type": "execute_result"
    }
   ],
   "source": [
    "cost_func(x_train,y_train,0.001,1)"
   ]
  },
  {
   "cell_type": "markdown",
   "metadata": {},
   "source": [
    "**Good so far !!**"
   ]
  },
  {
   "cell_type": "markdown",
   "metadata": {},
   "source": [
    "- Now let's compute the gradient descent function:\n",
    "    - we have two parameter to update w,b ![image.png](attachment:image.png)"
   ]
  },
  {
   "cell_type": "code",
   "execution_count": 18,
   "metadata": {},
   "outputs": [],
   "source": [
    "def gradient_func(x,y,w,b):\n",
    "\n",
    "    m = x.shape[0]\n",
    "    w_ = 0\n",
    "    b_ = 0\n",
    "    for i in range(m):\n",
    "        \n",
    "        f_x = w*x[i] +b\n",
    "        w_ = w_ + ((f_x -y[i])*x[i])\n",
    "        b_ = b_ + (f_x - y[i])\n",
    "    \n",
    "    return np.array([[(1/m)*w_],[(1/m)*b_]])\n"
   ]
  },
  {
   "cell_type": "code",
   "execution_count": 40,
   "metadata": {},
   "outputs": [
    {
     "data": {
      "text/plain": [
       "False"
      ]
     },
     "execution_count": 40,
     "metadata": {},
     "output_type": "execute_result"
    }
   ],
   "source": [
    "np.linalg.norm(np.array([[1],\n",
    "                         [2]]),1)<1"
   ]
  },
  {
   "cell_type": "code",
   "execution_count": 45,
   "metadata": {},
   "outputs": [
    {
     "data": {
      "text/plain": [
       "-17.997053400000002"
      ]
     },
     "execution_count": 45,
     "metadata": {},
     "output_type": "execute_result"
    }
   ],
   "source": [
    "gradient_func(x_train,y_train,0.001,1)[1][0]"
   ]
  },
  {
   "cell_type": "code",
   "execution_count": 27,
   "metadata": {},
   "outputs": [
    {
     "data": {
      "text/plain": [
       "228.9205942531622"
      ]
     },
     "execution_count": 27,
     "metadata": {},
     "output_type": "execute_result"
    }
   ],
   "source": [
    "np.linalg.norm(v,1)"
   ]
  },
  {
   "cell_type": "code",
   "execution_count": 106,
   "metadata": {},
   "outputs": [],
   "source": [
    "def generate_parameters(x,y,w_in,b_in,cost_func,gradient_func,learning_rate,num_iterations):\n",
    "\n",
    "    b = b_in\n",
    "    w = w_in\n",
    "    \n",
    "    for i in range(num_iterations):\n",
    "        \n",
    "        b = b - learning_rate*(gradient_func(x,y,w,b)[1][0])\n",
    "        w = w - learning_rate*gradient_func(x,y,w,b)[0][0]\n",
    "        v = np.array([[w],[b]])\n",
    "        if np.linalg.norm(v,1) < 1:\n",
    "            print(\"!!\")\n",
    "            return w,b ,cost_func(x,y,w,b)\n",
    "    return w,b ,cost_func(x,y,w,b)"
   ]
  },
  {
   "cell_type": "code",
   "execution_count": 107,
   "metadata": {},
   "outputs": [],
   "source": [
    "w,b,cost = generate_parameters(x_train, y_train, 0.1, 1, cost_func, gradient_func, 0.001, 100)"
   ]
  },
  {
   "cell_type": "code",
   "execution_count": 108,
   "metadata": {},
   "outputs": [
    {
     "data": {
      "text/plain": [
       "(1.876524038020774, 1.1094546633877185, 4.745238948356414)"
      ]
     },
     "execution_count": 108,
     "metadata": {},
     "output_type": "execute_result"
    }
   ],
   "source": [
    "w,b,cost"
   ]
  },
  {
   "cell_type": "code",
   "execution_count": 109,
   "metadata": {},
   "outputs": [],
   "source": [
    "m = x_train.shape[0]\n",
    "predicted = np.array(range(m))"
   ]
  },
  {
   "cell_type": "code",
   "execution_count": 110,
   "metadata": {},
   "outputs": [],
   "source": [
    "for i in range(predicted.shape[0]):\n",
    "    predicted[i]=w*x_train[i]+b"
   ]
  },
  {
   "cell_type": "code",
   "execution_count": 111,
   "metadata": {},
   "outputs": [
    {
     "data": {
      "text/plain": [
       "Text(0.5, 1.0, 'Simple Regression model')"
      ]
     },
     "execution_count": 111,
     "metadata": {},
     "output_type": "execute_result"
    },
    {
     "data": {
      "image/png": "[encoded data removed]",
      "text/plain": [
       "<Figure size 640x480 with 1 Axes>"
      ]
     },
     "metadata": {},
     "output_type": "display_data"
    }
   ],
   "source": [
    "# visualize the results\n",
    "plt.plot(x_train,predicted,color = 'b')\n",
    "plt.scatter(x_train,y_train,marker='x',color ='r')\n",
    "plt.title(\"Simple Regression model\")"
   ]
  }
 ],
 "metadata": {
  "kernelspec": {
   "display_name": "base",
   "language": "python",
   "name": "python3"
  },
  "language_info": {
   "codemirror_mode": {
    "name": "ipython",
    "version": 3
   },
   "file_extension": ".py",
   "mimetype": "text/x-python",
   "name": "python",
   "nbconvert_exporter": "python",
   "pygments_lexer": "ipython3",
   "version": "3.11.5"
  }
 },
 "nbformat": 4,
 "nbformat_minor": 2
}
