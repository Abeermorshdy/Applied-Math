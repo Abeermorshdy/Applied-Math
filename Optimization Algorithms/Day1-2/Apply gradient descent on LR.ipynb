{
 "cells": [
  {
   "cell_type": "code",
   "execution_count": 1,
   "metadata": {},
   "outputs": [],
   "source": [
    "import numpy as np\n",
    "import matplotlib.pyplot as plt\n",
    "%matplotlib inline"
   ]
  },
  {
   "cell_type": "code",
   "execution_count": 2,
   "metadata": {},
   "outputs": [
    {
     "data": {
      "text/plain": [
       "<matplotlib.collections.PathCollection at 0x24c4a0fc3d0>"
      ]
     },
     "execution_count": 2,
     "metadata": {},
     "output_type": "execute_result"
    },
    {
     "data": {
      "image/png": "[encoded data removed]",
      "text/plain": [
       "<Figure size 640x480 with 1 Axes>"
      ]
     },
     "metadata": {},
     "output_type": "display_data"
    }
   ],
   "source": [
    "# Data for example\n",
    "x_train = np.array( [6.1101, 10,13,15,17,5.5277, 8.5186, 7.0032, 5.8598])\n",
    "y_train = np.array([17.592,22,25,30,35, 9.1302, 13.662,  11.854,  6.8233])\n",
    "plt.scatter(x = x_train,y = y_train,marker='x',color = 'r')"
   ]
  },
  {
   "cell_type": "markdown",
   "metadata": {},
   "source": [
    "**Goal**\n",
    "- Our goal is to implement a model which can predicate `y_train` based on only one feature `x_train`.\n",
    "- We will use <b>Linear Regression model</b> to predicate the incoming `x_test`"
   ]
  },
  {
   "cell_type": "markdown",
   "metadata": {},
   "source": [
    "- The first step is calculating the cost function which will measure the error in our model "
   ]
  },
  {
   "cell_type": "markdown",
   "metadata": {},
   "source": [
    "- To remember $$\\mathbf f_{w,b}(x^{(i)}) = wx^{(i)}+b $$"
   ]
  },
  {
   "cell_type": "markdown",
   "metadata": {},
   "source": [
    "- Cost function : $$\\mathbf cost^{(i)} = (f(x)^{(i)} - y^{(i)})^2$$"
   ]
  },
  {
   "cell_type": "markdown",
   "metadata": {},
   "source": [
    "- Total cost: $$\\mathbf j_{(w,b)} = 1/2m \\sum\\limits_{i=0}^{m-1} cost^{(i)} $$"
   ]
  },
  {
   "cell_type": "code",
   "execution_count": 3,
   "metadata": {},
   "outputs": [],
   "source": [
    "def cost_func (x,y,w,b):\n",
    "    cost = 0 \n",
    "    m = x.shape[0]                               # initialize the total cost with 0\n",
    "    for i in range(m):                           # loop for x_train            # loop for y_train             \n",
    "        predicted_out = w*x[i] +b                # predicate the output with linear regression model\n",
    "        cost = cost + (predicted_out - y[i])**2  # compute cost\n",
    "            \n",
    "    return  (1/(2*m))*cost\n"
   ]
  },
  {
   "cell_type": "code",
   "execution_count": 4,
   "metadata": {},
   "outputs": [
    {
     "data": {
      "text/plain": [
       "203.5357426865134"
      ]
     },
     "execution_count": 4,
     "metadata": {},
     "output_type": "execute_result"
    }
   ],
   "source": [
    "cost_func(x_train,y_train,0.001,1)"
   ]
  },
  {
   "cell_type": "markdown",
   "metadata": {},
   "source": [
    "**Good so far !!**"
   ]
  },
  {
   "cell_type": "markdown",
   "metadata": {},
   "source": [
    "- Now let's compute the gradient descent function:\n",
    "    - we have two parameter to update w,b ![image.png](attachment:image.png)"
   ]
  },
  {
   "cell_type": "code",
   "execution_count": 5,
   "metadata": {},
   "outputs": [],
   "source": [
    "def gradient_func(x,y,w,b):\n",
    "    total_w = 0\n",
    "    total_b = 0\n",
    "    m = x.shape[0]\n",
    "    for i in range(m):\n",
    "        predicted_out = w*x[i] + b\n",
    "        j_w = (predicted_out - y[i])*x[i]    # compute gradient for each example of w\n",
    "        total_w = total_w + j_w\n",
    "        j_b = (predicted_out - y[i])         # compute gradient for each example of b\n",
    "        total_b = total_b + j_b\n",
    "    return (1/m)*total_w , (1/m)*total_b"
   ]
  },
  {
   "cell_type": "code",
   "execution_count": 6,
   "metadata": {},
   "outputs": [],
   "source": [
    "def generate_parameters(x,y,w_in,b_in,cost_func,gradient_func,learning_rate,num_iterations):\n",
    "\n",
    "    b = b_in\n",
    "    w = w_in\n",
    "    \n",
    "    for i in range(num_iterations):\n",
    "        \n",
    "        b = b - learning_rate*(gradient_func(x,y,w,b)[1])\n",
    "        w = w - learning_rate*gradient_func(x,y,w,b)[0]\n",
    "        v = np.array([[w],[b]])\n",
    "        if np.linalg.norm(v,1) < 1:\n",
    "            print(\"!!\")\n",
    "            return w,b ,cost_func(x,y,w,b)\n",
    "    return w,b ,cost_func(x,y,w,b)"
   ]
  },
  {
   "cell_type": "code",
   "execution_count": 7,
   "metadata": {},
   "outputs": [
    {
     "data": {
      "text/plain": [
       "(-210.9235408531622, -17.997053400000002)"
      ]
     },
     "execution_count": 7,
     "metadata": {},
     "output_type": "execute_result"
    }
   ],
   "source": [
    "gradient_func(x_train,y_train,0.001,1)"
   ]
  },
  {
   "cell_type": "markdown",
   "metadata": {},
   "source": [
    "- We only use one  ond one b "
   ]
  },
  {
   "cell_type": "code",
   "execution_count": 8,
   "metadata": {},
   "outputs": [],
   "source": [
    "def generate_parameters(x,y,w_in,b_in,cost_func,gradient_func,learning_rate,num_iterations):\n",
    "\n",
    "    w = w_in\n",
    "    b = b_in\n",
    "    cost = 0\n",
    "\n",
    "    for i in range(num_iterations):\n",
    "        j_w , j_b = gradient_func(x,y,w,b)\n",
    "        w = w - learning_rate*j_w\n",
    "        b = b - learning_rate*j_b\n",
    "\n",
    "    cost = cost_func(x,y,w,b)\n",
    "    return w,b,cost"
   ]
  },
  {
   "cell_type": "code",
   "execution_count": 11,
   "metadata": {},
   "outputs": [],
   "source": [
    "w,b,cost = generate_parameters(x_train, y_train, 0.1, 1, cost_func, gradient_func, 0.001, 40)"
   ]
  },
  {
   "cell_type": "code",
   "execution_count": 12,
   "metadata": {},
   "outputs": [
    {
     "data": {
      "text/plain": [
       "(1.859285100840103, 1.1354602770227857)"
      ]
     },
     "execution_count": 12,
     "metadata": {},
     "output_type": "execute_result"
    }
   ],
   "source": [
    "w,b"
   ]
  },
  {
   "cell_type": "code",
   "execution_count": 13,
   "metadata": {},
   "outputs": [],
   "source": [
    "m = x_train.shape[0]\n",
    "predicted = np.array(range(m))"
   ]
  },
  {
   "cell_type": "code",
   "execution_count": 14,
   "metadata": {},
   "outputs": [],
   "source": [
    "for i in range(predicted.shape[0]):\n",
    "    predicted[i]=w*x_train[i]+b"
   ]
  },
  {
   "cell_type": "code",
   "execution_count": 15,
   "metadata": {},
   "outputs": [
    {
     "data": {
      "text/plain": [
       "array([12, 19, 25, 29, 32, 11, 16, 14, 12])"
      ]
     },
     "execution_count": 15,
     "metadata": {},
     "output_type": "execute_result"
    }
   ],
   "source": [
    "predicted"
   ]
  },
  {
   "cell_type": "code",
   "execution_count": 16,
   "metadata": {},
   "outputs": [
    {
     "data": {
      "text/plain": [
       "Text(0.5, 1.0, 'Simple Regression model')"
      ]
     },
     "execution_count": 16,
     "metadata": {},
     "output_type": "execute_result"
    },
    {
     "data": {
      "image/png": "[encoded data removed]",
      "text/plain": [
       "<Figure size 640x480 with 1 Axes>"
      ]
     },
     "metadata": {},
     "output_type": "display_data"
    }
   ],
   "source": [
    "plt.plot(x_train,predicted,color = 'b')\n",
    "plt.scatter(x_train,y_train,marker='x',color ='r')\n",
    "plt.title(\"Simple Regression model\")"
   ]
  }
 ],
 "metadata": {
  "kernelspec": {
   "display_name": "base",
   "language": "python",
   "name": "python3"
  },
  "language_info": {
   "codemirror_mode": {
    "name": "ipython",
    "version": 3
   },
   "file_extension": ".py",
   "mimetype": "text/x-python",
   "name": "python",
   "nbconvert_exporter": "python",
   "pygments_lexer": "ipython3",
   "version": "3.11.5"
  }
 },
 "nbformat": 4,
 "nbformat_minor": 2
}
